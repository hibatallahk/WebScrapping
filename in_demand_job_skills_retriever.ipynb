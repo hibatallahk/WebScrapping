{
  "nbformat": 4,
  "nbformat_minor": 0,
  "metadata": {
    "colab": {
      "name": "in_demand_job_skills_retriever.ipynb",
      "provenance": []
    },
    "kernelspec": {
      "name": "python3",
      "display_name": "Python 3"
    },
    "language_info": {
      "name": "python"
    }
  },
  "cells": [
    {
      "cell_type": "code",
      "execution_count": null,
      "metadata": {
        "colab": {
          "base_uri": "https://localhost:8080/",
          "height": 235
        },
        "id": "yu1ahSF3HFHA",
        "outputId": "a4cb2dab-01a1-4b64-958d-e582db16d5ff"
      },
      "outputs": [
        {
          "output_type": "error",
          "ename": "AttributeError",
          "evalue": "ignored",
          "traceback": [
            "\u001b[0;31m---------------------------------------------------------------------------\u001b[0m",
            "\u001b[0;31mAttributeError\u001b[0m                            Traceback (most recent call last)",
            "\u001b[0;32m<ipython-input-3-1932f829adf7>\u001b[0m in \u001b[0;36m<module>\u001b[0;34m()\u001b[0m\n\u001b[1;32m     11\u001b[0m \u001b[0;31m#names of columns for the dataframe\u001b[0m\u001b[0;34m\u001b[0m\u001b[0;34m\u001b[0m\u001b[0;34m\u001b[0m\u001b[0m\n\u001b[1;32m     12\u001b[0m \u001b[0mheading_table\u001b[0m \u001b[0;34m=\u001b[0m \u001b[0;34m[\u001b[0m\u001b[0;34m]\u001b[0m\u001b[0;34m\u001b[0m\u001b[0;34m\u001b[0m\u001b[0m\n\u001b[0;32m---> 13\u001b[0;31m \u001b[0;32mfor\u001b[0m \u001b[0mrow\u001b[0m \u001b[0;32min\u001b[0m \u001b[0mweather\u001b[0m\u001b[0;34m.\u001b[0m\u001b[0mfind_all\u001b[0m\u001b[0;34m(\u001b[0m\u001b[0;34m'th'\u001b[0m\u001b[0;34m)\u001b[0m\u001b[0;34m:\u001b[0m \u001b[0;31m#<th> in html\u001b[0m\u001b[0;34m\u001b[0m\u001b[0;34m\u001b[0m\u001b[0m\n\u001b[0m\u001b[1;32m     14\u001b[0m     \u001b[0mheading_table\u001b[0m\u001b[0;34m.\u001b[0m\u001b[0mappend\u001b[0m\u001b[0;34m(\u001b[0m\u001b[0mrow\u001b[0m\u001b[0;34m.\u001b[0m\u001b[0mtext\u001b[0m\u001b[0;34m)\u001b[0m\u001b[0;34m\u001b[0m\u001b[0;34m\u001b[0m\u001b[0m\n\u001b[1;32m     15\u001b[0m \u001b[0;31m#getting the content for the dataframe\u001b[0m\u001b[0;34m\u001b[0m\u001b[0;34m\u001b[0m\u001b[0;34m\u001b[0m\u001b[0m\n",
            "\u001b[0;31mAttributeError\u001b[0m: 'NoneType' object has no attribute 'find_all'"
          ]
        }
      ],
      "source": [
        "import pandas as pd\n",
        "import requests  # Import the library for sending requests to the server\n",
        "from bs4 import BeautifulSoup  # Import the library for webpage parsing\n",
        "\n",
        "URL = 'https://www.rekrute.com/offres-emploi-informatique-electronique-fonction-13.html'\n",
        "req = requests.get(URL)  # GET-request\n",
        "soup = BeautifulSoup(req.text, 'lxml')\n",
        "\n",
        "#  parse the data on weather in Chicago in November 2017 from the website\n",
        "weather = soup.find('table', attrs={\"id\":\"weather_records\"})\n",
        "#names of columns for the dataframe\n",
        "heading_table = []\n",
        "for row in weather.find_all('th'): #<th> in html\n",
        "    heading_table.append(row.text)\n",
        "#getting the content for the dataframe\n",
        "content = []\n",
        "for row in weather.find_all('tr'):\n",
        "    if not row.find_all('th'): #ignore the first row of the table\n",
        "        content.append([element.text for element in row.find_all('td')])\n",
        "\n",
        "#parse into the weather dataframe\n",
        "weather_records = pd.DataFrame(content, columns = heading_table)\n",
        "print(weather_records)"
      ]
    },
    {
      "cell_type": "code",
      "source": [
        ""
      ],
      "metadata": {
        "id": "FNuFfQ99cbWR"
      },
      "execution_count": null,
      "outputs": []
    }
  ]
}