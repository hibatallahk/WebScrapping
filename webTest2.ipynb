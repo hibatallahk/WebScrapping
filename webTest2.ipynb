{
  "nbformat": 4,
  "nbformat_minor": 0,
  "metadata": {
    "colab": {
      "name": "webTest2.ipynb",
      "provenance": [],
      "include_colab_link": true
    },
    "kernelspec": {
      "name": "python3",
      "display_name": "Python 3"
    },
    "language_info": {
      "name": "python"
    }
  },
  "cells": [
    {
      "cell_type": "markdown",
      "metadata": {
        "id": "view-in-github",
        "colab_type": "text"
      },
      "source": [
        "<a href=\"https://colab.research.google.com/github/hibatallahk/WebScrapping/blob/main/webTest2.ipynb\" target=\"_parent\"><img src=\"https://colab.research.google.com/assets/colab-badge.svg\" alt=\"Open In Colab\"/></a>"
      ]
    },
    {
      "cell_type": "markdown",
      "source": [
        "# Indeed Job Scraper\n",
        "\n",
        "create a general purpose job scraper"
      ],
      "metadata": {
        "id": "AyEwrtuPMD3e"
      }
    },
    {
      "cell_type": "code",
      "source": [
        "import csv\n",
        "from datetime import datetime\n",
        "import requests\n",
        "from bs4 import BeautifulSoup"
      ],
      "metadata": {
        "id": "Ibsqf5rxMEGq"
      },
      "execution_count": 1,
      "outputs": []
    },
    {
      "cell_type": "code",
      "source": [
        "def get_url(position, location):\n",
        "    \"\"\"Generate url from position and location\"\"\"\n",
        "    template = 'https://ma.indeed.com/jobs?q={}&l={}'   \n",
        "    position = position.replace(' ', '+')\n",
        "    location = location.replace(' ', '+')\n",
        "    url = template.format(position, location)\n",
        "    return url"
      ],
      "metadata": {
        "id": "phHBjakQLXq3"
      },
      "execution_count": 2,
      "outputs": []
    },
    {
      "cell_type": "code",
      "source": [
        "url = get_url('data scientist', 'Maroc')\n",
        "print(url)"
      ],
      "metadata": {
        "colab": {
          "base_uri": "https://localhost:8080/"
        },
        "id": "Y_itTeSuLbbO",
        "outputId": "ba3990aa-4c77-492c-a4b5-0cc26598fcdd"
      },
      "execution_count": 3,
      "outputs": [
        {
          "output_type": "stream",
          "name": "stdout",
          "text": [
            "https://ma.indeed.com/jobs?q=data+scientist&l=Maroc\n"
          ]
        }
      ]
    },
    {
      "cell_type": "markdown",
      "source": [
        "# Extract html data\n"
      ],
      "metadata": {
        "id": "vJjr8Gismg27"
      }
    },
    {
      "cell_type": "code",
      "source": [
        "response = requests.get(url)"
      ],
      "metadata": {
        "id": "WnoOT_kCLxAD"
      },
      "execution_count": 4,
      "outputs": []
    },
    {
      "cell_type": "code",
      "source": [
        "soup = BeautifulSoup(response.text, 'html.parser')"
      ],
      "metadata": {
        "id": "8O2YDoA1mfYN"
      },
      "execution_count": 5,
      "outputs": []
    },
    {
      "cell_type": "code",
      "source": [
        "cards = soup.find_all('div', 'slider_container')"
      ],
      "metadata": {
        "id": "3smTCfzxmfao"
      },
      "execution_count": 6,
      "outputs": []
    },
    {
      "cell_type": "code",
      "source": [
        "len(cards)"
      ],
      "metadata": {
        "colab": {
          "base_uri": "https://localhost:8080/"
        },
        "id": "67LZuENMoc-a",
        "outputId": "5f252b17-7860-48b9-f12d-b456358ba348"
      },
      "execution_count": 7,
      "outputs": [
        {
          "output_type": "execute_result",
          "data": {
            "text/plain": [
              "15"
            ]
          },
          "metadata": {},
          "execution_count": 7
        }
      ]
    },
    {
      "cell_type": "markdown",
      "source": [
        "# Prototype the model with a single record\n"
      ],
      "metadata": {
        "id": "FKhQkcyjmySI"
      }
    },
    {
      "cell_type": "code",
      "source": [
        "#ok\n",
        "card = cards[0]\n",
        "card"
      ],
      "metadata": {
        "colab": {
          "base_uri": "https://localhost:8080/"
        },
        "id": "nxyfW1Timfcw",
        "outputId": "1ee58a0f-93d0-44e0-a95a-176c161f2255"
      },
      "execution_count": 8,
      "outputs": [
        {
          "output_type": "execute_result",
          "data": {
            "text/plain": [
              "<div class=\"slider_container\"><div class=\"slider_list\"><div class=\"slider_item\"><div class=\"job_seen_beacon\"><table cellpadding=\"0\" cellspacing=\"0\" class=\"jobCard_mainContent\" role=\"presentation\"><tbody><tr><td class=\"resultContent\"><div class=\"heading4 color-text-primary singleLineTitle tapItem-gutter\"><h2 class=\"jobTitle jobTitle-color-purple\"><span title=\"Stage en Ingénieur Développement – Data Scientist ( Rabat ) à Rabat\">Stage en Ingénieur Développement – Data Scientist ( Rabat )...</span></h2></div><div class=\"heading6 company_location tapItem-gutter\"><pre><div class=\"companyLocation\">Maroc</div></pre></div><div class=\"heading6 error-text tapItem-gutter\"></div></td></tr></tbody></table><table class=\"jobCardShelfContainer\" role=\"presentation\"><tbody><tr class=\"jobCardShelf\"></tr><tr class=\"underShelfFooter\"><td><div class=\"heading6 tapItem-gutter result-footer\"><div class=\"job-snippet\">Poste pour Ingénieur à Rabat – Offre d’Emploi : Stage en Ingénieur Développement – Data Scientist ( Rabat ) : Rabat – . Dans le cadre de développement de…</div><span class=\"date\"><span class=\"visually-hidden\">Posted</span>il y a 30+ jours</span><span class=\"result-link-bar-separator\">·</span><button aria-expanded=\"false\" class=\"sl resultLink more_links_button\" type=\"button\">plus...</button></div><div class=\"tab-container\"><div class=\"more-links-container result-tab\" role=\"presentation\"><div class=\"more_links\"><button aria-label=\"Close\" class=\"close-button\" title=\"Close\" type=\"button\"></button><ul><li><span class=\"mat\">Afficher tout :  <a href=\"/Maroc-emplois\">emploi Maroc</a></span></li><li><span class=\"mat\">Rechercher les salaires : <a href=\"/career/salaries/Data%20Scientist%20(H%2FF)/Maroc?campaignid=serp-more&amp;fromjk=4d3788b6f279df5b&amp;from=serp-more\">Stage en Ingénieur Développement – Data Scientist ( Rabat ) à Rabat</a></span></li></ul></div></div></div></td></tr></tbody></table><div aria-live=\"polite\"></div></div></div><div class=\"slider_sub_item\"></div></div></div>"
            ]
          },
          "metadata": {},
          "execution_count": 8
        }
      ]
    },
    {
      "cell_type": "code",
      "source": [
        "#ok\n",
        "job_title = card.h2.span.get('title')\n",
        "job_title"
      ],
      "metadata": {
        "id": "5Z4_VSN1mffL",
        "colab": {
          "base_uri": "https://localhost:8080/",
          "height": 35
        },
        "outputId": "64ded8f6-262e-45fa-c9bc-72f681dfb89c"
      },
      "execution_count": 9,
      "outputs": [
        {
          "output_type": "execute_result",
          "data": {
            "application/vnd.google.colaboratory.intrinsic+json": {
              "type": "string"
            },
            "text/plain": [
              "'Stage en Ingénieur Développement – Data Scientist ( Rabat ) à Rabat'"
            ]
          },
          "metadata": {},
          "execution_count": 9
        }
      ]
    },
    {
      "cell_type": "code",
      "source": [
        "#not ok\n",
        "company = card.find('span', 'companyName')\n",
        "company"
      ],
      "metadata": {
        "id": "d1d_-3iCmfn9"
      },
      "execution_count": 10,
      "outputs": []
    },
    {
      "cell_type": "code",
      "source": [
        "#ok\n",
        "location = card.find('div', 'companyLocation').text\n",
        "location"
      ],
      "metadata": {
        "id": "SWXfyxZOmftb",
        "colab": {
          "base_uri": "https://localhost:8080/",
          "height": 35
        },
        "outputId": "69db302a-190c-4b93-e2d7-82e726153a87"
      },
      "execution_count": 11,
      "outputs": [
        {
          "output_type": "execute_result",
          "data": {
            "application/vnd.google.colaboratory.intrinsic+json": {
              "type": "string"
            },
            "text/plain": [
              "'Maroc'"
            ]
          },
          "metadata": {},
          "execution_count": 11
        }
      ]
    },
    {
      "cell_type": "code",
      "source": [
        "#ok\n",
        "job_summary = card.find('div', 'job-snippet').text.strip().replace('\\n', ' ')\n",
        "job_summary"
      ],
      "metadata": {
        "id": "GNgglrNnmfxN",
        "colab": {
          "base_uri": "https://localhost:8080/",
          "height": 53
        },
        "outputId": "094e7875-0a2a-4c24-9d30-07821211b2d4"
      },
      "execution_count": 12,
      "outputs": [
        {
          "output_type": "execute_result",
          "data": {
            "application/vnd.google.colaboratory.intrinsic+json": {
              "type": "string"
            },
            "text/plain": [
              "'Poste pour Ingénieur à Rabat – Offre d’Emploi : Stage en Ingénieur Développement – Data Scientist ( Rabat ) : Rabat – . Dans le cadre de développement de…'"
            ]
          },
          "metadata": {},
          "execution_count": 12
        }
      ]
    },
    {
      "cell_type": "code",
      "source": [
        "#ok\n",
        "post_date = card.find('span', 'date').text\n",
        "post_date"
      ],
      "metadata": {
        "id": "7J1K5zXK98Jf",
        "colab": {
          "base_uri": "https://localhost:8080/",
          "height": 35
        },
        "outputId": "b8396838-e5dc-4507-8ac9-69350bd68f30"
      },
      "execution_count": 13,
      "outputs": [
        {
          "output_type": "execute_result",
          "data": {
            "application/vnd.google.colaboratory.intrinsic+json": {
              "type": "string"
            },
            "text/plain": [
              "'Postedil y a 30+ jours'"
            ]
          },
          "metadata": {},
          "execution_count": 13
        }
      ]
    },
    {
      "cell_type": "code",
      "source": [
        "#ok\n",
        "today = datetime.today().strftime('%Y-%m-%d')\n",
        "today"
      ],
      "metadata": {
        "colab": {
          "base_uri": "https://localhost:8080/",
          "height": 35
        },
        "id": "WjhkKwIM_CN7",
        "outputId": "aa14fb98-be9c-4782-e8f6-7858eb9ae0b5"
      },
      "execution_count": 14,
      "outputs": [
        {
          "output_type": "execute_result",
          "data": {
            "application/vnd.google.colaboratory.intrinsic+json": {
              "type": "string"
            },
            "text/plain": [
              "'2021-12-21'"
            ]
          },
          "metadata": {},
          "execution_count": 14
        }
      ]
    },
    {
      "cell_type": "code",
      "source": [
        "#job_url = 'https://www.indeed.com' + card.h2.a.get('href')\n",
        "\n",
        "url = card.a.get('href')\n",
        "job_url = 'https://ma.indeed.com' + url\n",
        "job_url"
      ],
      "metadata": {
        "colab": {
          "base_uri": "https://localhost:8080/",
          "height": 35
        },
        "id": "RhB3C_6PCN1v",
        "outputId": "f002d2ed-8df2-4b58-f5a4-2216df424afc"
      },
      "execution_count": 15,
      "outputs": [
        {
          "output_type": "execute_result",
          "data": {
            "application/vnd.google.colaboratory.intrinsic+json": {
              "type": "string"
            },
            "text/plain": [
              "'https://ma.indeed.com/Maroc-emplois'"
            ]
          },
          "metadata": {},
          "execution_count": 15
        }
      ]
    },
    {
      "cell_type": "markdown",
      "source": [
        "# Generalize the code"
      ],
      "metadata": {
        "id": "wrptZJyDBR6x"
      }
    },
    {
      "cell_type": "code",
      "source": [
        "def get_record(card):\n",
        "    \"\"\"Extract job data from a single record\"\"\"\n",
        "    job_title = card.h2.span.get('title')\n",
        "    #company = card.find('span', 'companyName').text.strip()\n",
        "    location = card.find('div', 'companyLocation').text.strip()\n",
        "    post_date = card.find('span', 'date').text.strip()\n",
        "    today = datetime.today().strftime('%Y-%m-%d')\n",
        "    job_summary = card.find('div', 'job-snippet').text.strip().replace('\\n', ' ')\n",
        "    record = (job_title, location, post_date, today, job_summary)\n",
        "\n",
        "    return record"
      ],
      "metadata": {
        "id": "IowhqPk3_htW"
      },
      "execution_count": 16,
      "outputs": []
    },
    {
      "cell_type": "code",
      "source": [
        "records = []\n",
        "\n",
        "for card in cards:\n",
        "    record = get_record(card)\n",
        "    records.append(record)"
      ],
      "metadata": {
        "id": "yyKpKGMPR4RZ"
      },
      "execution_count": 17,
      "outputs": []
    },
    {
      "cell_type": "code",
      "source": [
        "records[2]"
      ],
      "metadata": {
        "colab": {
          "base_uri": "https://localhost:8080/"
        },
        "id": "lmvGU_rOSMFl",
        "outputId": "9befcd19-2c7d-489f-87df-298576a8fae4"
      },
      "execution_count": 18,
      "outputs": [
        {
          "output_type": "execute_result",
          "data": {
            "text/plain": [
              "('Junior data scientist',\n",
              " 'Casablanca',\n",
              " 'Postedil y a 30+ jours',\n",
              " '2021-12-21',\n",
              " 'Mettre en œuvre les processus de structurations de la données (toutes sources confondues internes et externes). Sens de l’organisation et du travail en équipe ;')"
            ]
          },
          "metadata": {},
          "execution_count": 18
        }
      ]
    },
    {
      "cell_type": "markdown",
      "source": [
        "#Getting the next page"
      ],
      "metadata": {
        "id": "sJN5pLhoUx-V"
      }
    },
    {
      "cell_type": "code",
      "source": [
        "url = 'https://ma.indeed.com' + soup.find('a',{'aria-label':'Suivant'}).get('href')"
      ],
      "metadata": {
        "id": "rWQr5doVT-IX"
      },
      "execution_count": 19,
      "outputs": []
    },
    {
      "cell_type": "code",
      "source": [
        "url"
      ],
      "metadata": {
        "colab": {
          "base_uri": "https://localhost:8080/",
          "height": 35
        },
        "id": "V_t-2tI4b-K_",
        "outputId": "a2d55aac-b485-4512-b862-5fe08df39d68"
      },
      "execution_count": 20,
      "outputs": [
        {
          "output_type": "execute_result",
          "data": {
            "application/vnd.google.colaboratory.intrinsic+json": {
              "type": "string"
            },
            "text/plain": [
              "'https://ma.indeed.com/jobs?q=data+scientist&l=Maroc&start=10'"
            ]
          },
          "metadata": {},
          "execution_count": 20
        }
      ]
    },
    {
      "cell_type": "code",
      "source": [
        "while True:\n",
        "    try:\n",
        "        url = 'https://ma.indeed.com' + soup.find('a',{'aria-label':'Suivant'}).get('href')\n",
        "    except AttributeError:\n",
        "        break\n",
        "\n",
        "    response = requests.get(url)\n",
        "    soup = BeautifulSoup(response.text, 'html.parser')\n",
        "    cards = soup.find_all('div', 'job_seen_beacon')\n",
        "\n",
        "    for card in cards:\n",
        "        record = get_record(card)\n",
        "        records.append(record)"
      ],
      "metadata": {
        "id": "BydbhqohcUWX"
      },
      "execution_count": 21,
      "outputs": []
    },
    {
      "cell_type": "code",
      "source": [
        "len(records)"
      ],
      "metadata": {
        "colab": {
          "base_uri": "https://localhost:8080/"
        },
        "id": "ttb_cLgwdEYY",
        "outputId": "f4b9efa7-ae4a-4921-ecf8-82e6fc4a3f7c"
      },
      "execution_count": 22,
      "outputs": [
        {
          "output_type": "execute_result",
          "data": {
            "text/plain": [
              "75"
            ]
          },
          "metadata": {},
          "execution_count": 22
        }
      ]
    },
    {
      "cell_type": "markdown",
      "source": [
        "# Putting all together"
      ],
      "metadata": {
        "id": "L674CTuudOrn"
      }
    },
    {
      "cell_type": "code",
      "source": [
        "import csv\n",
        "from datetime import datetime\n",
        "import requests\n",
        "from bs4 import BeautifulSoup\n",
        "\n",
        "\n",
        "def get_url(position, location):\n",
        "    \"\"\"Generate url from position and location\"\"\"\n",
        "    template = 'https://ma.indeed.com/jobs?q={}&l={}'   \n",
        "    position = position.replace(' ', '+')\n",
        "    location = location.replace(' ', '+')\n",
        "    url = template.format(position, location)\n",
        "    return url\n",
        "\n",
        "\n",
        "def get_record(card):\n",
        "    \"\"\"Extract job data from a single record\"\"\"\n",
        "    job_title = card.h2.span.get('title')\n",
        "    #company = card.find('span', 'companyName').text.strip()\n",
        "    location = card.find('div', 'companyLocation').text.strip()\n",
        "    job_summary = card.find('div', 'job-snippet').text.strip().replace('\\n', ' ')\n",
        "    post_date = card.find('span', 'date').text.strip()\n",
        "    today = datetime.today().strftime('%Y-%m-%d')\n",
        "    job_url = 'https://ma.indeed.com' + card.a.get('href')\n",
        "\n",
        "    record = (job_title, location, post_date, today, job_summary)\n",
        "\n",
        "    return record\n",
        "\n",
        "\n",
        "def main(position, location):\n",
        "    \"\"\"Run the main program routine\"\"\"\n",
        "    records = []\n",
        "    url = get_url(position, location)\n",
        "    \n",
        "    # extract the job data\n",
        "    while True:\n",
        "        response = requests.get(url)\n",
        "        soup = BeautifulSoup(response.text, 'html.parser')\n",
        "        cards = soup.find_all('div', 'job_seen_beacon')\n",
        "        for card in cards:\n",
        "            record = get_record(card)\n",
        "            records.append(record)\n",
        "        try:\n",
        "            url = 'https://ma.indeed.com' + soup.find('a',{'aria-label':'Suivant'}).get('href')\n",
        "        except AttributeError:\n",
        "            break\n",
        "        \n",
        "    # save the job data\n",
        "    with open('results.csv', 'w', newline='', encoding='utf-8') as f:\n",
        "        writer = csv.writer(f)\n",
        "        writer.writerow(['JobTitle','Location', 'PostDate', 'ExtractDate', 'Summary'])\n",
        "        writer.writerows(records)"
      ],
      "metadata": {
        "id": "8DHLuuikdJZ5"
      },
      "execution_count": 23,
      "outputs": []
    },
    {
      "cell_type": "code",
      "source": [
        "main('data scientist', 'Maroc')"
      ],
      "metadata": {
        "id": "Kzzbv5xMeDAA"
      },
      "execution_count": 24,
      "outputs": []
    },
    {
      "cell_type": "code",
      "source": [
        "import pandas as pd\n",
        "df = pd.read_csv('results.csv', sep=',')"
      ],
      "metadata": {
        "id": "4oEO6zHaeJI2"
      },
      "execution_count": 25,
      "outputs": []
    },
    {
      "cell_type": "code",
      "source": [
        "df"
      ],
      "metadata": {
        "colab": {
          "base_uri": "https://localhost:8080/",
          "height": 424
        },
        "id": "Qavh-B6HeYP3",
        "outputId": "5593abaa-94bc-428b-94e3-a41859170a09"
      },
      "execution_count": 26,
      "outputs": [
        {
          "output_type": "execute_result",
          "data": {
            "text/html": [
              "\n",
              "  <div id=\"df-d0d608bb-13c3-4cd1-8558-b8338398a593\">\n",
              "    <div class=\"colab-df-container\">\n",
              "      <div>\n",
              "<style scoped>\n",
              "    .dataframe tbody tr th:only-of-type {\n",
              "        vertical-align: middle;\n",
              "    }\n",
              "\n",
              "    .dataframe tbody tr th {\n",
              "        vertical-align: top;\n",
              "    }\n",
              "\n",
              "    .dataframe thead th {\n",
              "        text-align: right;\n",
              "    }\n",
              "</style>\n",
              "<table border=\"1\" class=\"dataframe\">\n",
              "  <thead>\n",
              "    <tr style=\"text-align: right;\">\n",
              "      <th></th>\n",
              "      <th>JobTitle</th>\n",
              "      <th>Location</th>\n",
              "      <th>PostDate</th>\n",
              "      <th>ExtractDate</th>\n",
              "      <th>Summary</th>\n",
              "    </tr>\n",
              "  </thead>\n",
              "  <tbody>\n",
              "    <tr>\n",
              "      <th>0</th>\n",
              "      <td>Stage en Ingénieur Développement – Data Scient...</td>\n",
              "      <td>Maroc</td>\n",
              "      <td>Postedil y a 30+ jours</td>\n",
              "      <td>2021-12-21</td>\n",
              "      <td>Poste pour Ingénieur à Rabat – Offre d’Emploi ...</td>\n",
              "    </tr>\n",
              "    <tr>\n",
              "      <th>1</th>\n",
              "      <td>Data Scientist-(H/F)</td>\n",
              "      <td>Maroc</td>\n",
              "      <td>Postedil y a 30+ jours</td>\n",
              "      <td>2021-12-21</td>\n",
              "      <td>Développer des use cases de bout en bout, en c...</td>\n",
              "    </tr>\n",
              "    <tr>\n",
              "      <th>2</th>\n",
              "      <td>Junior data scientist</td>\n",
              "      <td>Casablanca</td>\n",
              "      <td>Postedil y a 30+ jours</td>\n",
              "      <td>2021-12-21</td>\n",
              "      <td>Mettre en œuvre les processus de structuration...</td>\n",
              "    </tr>\n",
              "    <tr>\n",
              "      <th>3</th>\n",
              "      <td>Data Scientist</td>\n",
              "      <td>Casablanca</td>\n",
              "      <td>Postedil y a 30+ jours</td>\n",
              "      <td>2021-12-21</td>\n",
              "      <td>Le Data Scientist aura comme principale missio...</td>\n",
              "    </tr>\n",
              "    <tr>\n",
              "      <th>4</th>\n",
              "      <td>Data Scientist (H/F)</td>\n",
              "      <td>Casablanca</td>\n",
              "      <td>Postedil y a 30+ jours</td>\n",
              "      <td>2021-12-21</td>\n",
              "      <td>Exploration des données à l’aide d’outils de D...</td>\n",
              "    </tr>\n",
              "    <tr>\n",
              "      <th>...</th>\n",
              "      <td>...</td>\n",
              "      <td>...</td>\n",
              "      <td>...</td>\n",
              "      <td>...</td>\n",
              "      <td>...</td>\n",
              "    </tr>\n",
              "    <tr>\n",
              "      <th>70</th>\n",
              "      <td>Offre: Scrum master</td>\n",
              "      <td>Rabat</td>\n",
              "      <td>Postedil y a 13 jours</td>\n",
              "      <td>2021-12-21</td>\n",
              "      <td>As a data scientist, you are tasked with: Enab...</td>\n",
              "    </tr>\n",
              "    <tr>\n",
              "      <th>71</th>\n",
              "      <td>Offre: Hardware developer</td>\n",
              "      <td>Maroc</td>\n",
              "      <td>Postedil y a 30+ jours</td>\n",
              "      <td>2021-12-21</td>\n",
              "      <td>Nous cherchons pour notre entité AgriEdge de l...</td>\n",
              "    </tr>\n",
              "    <tr>\n",
              "      <th>72</th>\n",
              "      <td>Offre: Bscs developer</td>\n",
              "      <td>Casablanca</td>\n",
              "      <td>Postedil y a 30+ jours</td>\n",
              "      <td>2021-12-21</td>\n",
              "      <td>Secteur d'activité : Informatique Fonction : I...</td>\n",
              "    </tr>\n",
              "    <tr>\n",
              "      <th>73</th>\n",
              "      <td>Data Scientist</td>\n",
              "      <td>Settat</td>\n",
              "      <td>Postedil y a 16 jours</td>\n",
              "      <td>2021-12-21</td>\n",
              "      <td>Present information using data visualization t...</td>\n",
              "    </tr>\n",
              "    <tr>\n",
              "      <th>74</th>\n",
              "      <td>Consultants et Architecte Data H/F</td>\n",
              "      <td>Casablanca</td>\n",
              "      <td>Postedil y a 30+ jours</td>\n",
              "      <td>2021-12-21</td>\n",
              "      <td>Afin de couvrir l’ensemble des besoins de nos ...</td>\n",
              "    </tr>\n",
              "  </tbody>\n",
              "</table>\n",
              "<p>75 rows × 5 columns</p>\n",
              "</div>\n",
              "      <button class=\"colab-df-convert\" onclick=\"convertToInteractive('df-d0d608bb-13c3-4cd1-8558-b8338398a593')\"\n",
              "              title=\"Convert this dataframe to an interactive table.\"\n",
              "              style=\"display:none;\">\n",
              "        \n",
              "  <svg xmlns=\"http://www.w3.org/2000/svg\" height=\"24px\"viewBox=\"0 0 24 24\"\n",
              "       width=\"24px\">\n",
              "    <path d=\"M0 0h24v24H0V0z\" fill=\"none\"/>\n",
              "    <path d=\"M18.56 5.44l.94 2.06.94-2.06 2.06-.94-2.06-.94-.94-2.06-.94 2.06-2.06.94zm-11 1L8.5 8.5l.94-2.06 2.06-.94-2.06-.94L8.5 2.5l-.94 2.06-2.06.94zm10 10l.94 2.06.94-2.06 2.06-.94-2.06-.94-.94-2.06-.94 2.06-2.06.94z\"/><path d=\"M17.41 7.96l-1.37-1.37c-.4-.4-.92-.59-1.43-.59-.52 0-1.04.2-1.43.59L10.3 9.45l-7.72 7.72c-.78.78-.78 2.05 0 2.83L4 21.41c.39.39.9.59 1.41.59.51 0 1.02-.2 1.41-.59l7.78-7.78 2.81-2.81c.8-.78.8-2.07 0-2.86zM5.41 20L4 18.59l7.72-7.72 1.47 1.35L5.41 20z\"/>\n",
              "  </svg>\n",
              "      </button>\n",
              "      \n",
              "  <style>\n",
              "    .colab-df-container {\n",
              "      display:flex;\n",
              "      flex-wrap:wrap;\n",
              "      gap: 12px;\n",
              "    }\n",
              "\n",
              "    .colab-df-convert {\n",
              "      background-color: #E8F0FE;\n",
              "      border: none;\n",
              "      border-radius: 50%;\n",
              "      cursor: pointer;\n",
              "      display: none;\n",
              "      fill: #1967D2;\n",
              "      height: 32px;\n",
              "      padding: 0 0 0 0;\n",
              "      width: 32px;\n",
              "    }\n",
              "\n",
              "    .colab-df-convert:hover {\n",
              "      background-color: #E2EBFA;\n",
              "      box-shadow: 0px 1px 2px rgba(60, 64, 67, 0.3), 0px 1px 3px 1px rgba(60, 64, 67, 0.15);\n",
              "      fill: #174EA6;\n",
              "    }\n",
              "\n",
              "    [theme=dark] .colab-df-convert {\n",
              "      background-color: #3B4455;\n",
              "      fill: #D2E3FC;\n",
              "    }\n",
              "\n",
              "    [theme=dark] .colab-df-convert:hover {\n",
              "      background-color: #434B5C;\n",
              "      box-shadow: 0px 1px 3px 1px rgba(0, 0, 0, 0.15);\n",
              "      filter: drop-shadow(0px 1px 2px rgba(0, 0, 0, 0.3));\n",
              "      fill: #FFFFFF;\n",
              "    }\n",
              "  </style>\n",
              "\n",
              "      <script>\n",
              "        const buttonEl =\n",
              "          document.querySelector('#df-d0d608bb-13c3-4cd1-8558-b8338398a593 button.colab-df-convert');\n",
              "        buttonEl.style.display =\n",
              "          google.colab.kernel.accessAllowed ? 'block' : 'none';\n",
              "\n",
              "        async function convertToInteractive(key) {\n",
              "          const element = document.querySelector('#df-d0d608bb-13c3-4cd1-8558-b8338398a593');\n",
              "          const dataTable =\n",
              "            await google.colab.kernel.invokeFunction('convertToInteractive',\n",
              "                                                     [key], {});\n",
              "          if (!dataTable) return;\n",
              "\n",
              "          const docLinkHtml = 'Like what you see? Visit the ' +\n",
              "            '<a target=\"_blank\" href=https://colab.research.google.com/notebooks/data_table.ipynb>data table notebook</a>'\n",
              "            + ' to learn more about interactive tables.';\n",
              "          element.innerHTML = '';\n",
              "          dataTable['output_type'] = 'display_data';\n",
              "          await google.colab.output.renderOutput(dataTable, element);\n",
              "          const docLink = document.createElement('div');\n",
              "          docLink.innerHTML = docLinkHtml;\n",
              "          element.appendChild(docLink);\n",
              "        }\n",
              "      </script>\n",
              "    </div>\n",
              "  </div>\n",
              "  "
            ],
            "text/plain": [
              "                                             JobTitle  ...                                            Summary\n",
              "0   Stage en Ingénieur Développement – Data Scient...  ...  Poste pour Ingénieur à Rabat – Offre d’Emploi ...\n",
              "1                                Data Scientist-(H/F)  ...  Développer des use cases de bout en bout, en c...\n",
              "2                               Junior data scientist  ...  Mettre en œuvre les processus de structuration...\n",
              "3                                      Data Scientist  ...  Le Data Scientist aura comme principale missio...\n",
              "4                                Data Scientist (H/F)  ...  Exploration des données à l’aide d’outils de D...\n",
              "..                                                ...  ...                                                ...\n",
              "70                                Offre: Scrum master  ...  As a data scientist, you are tasked with: Enab...\n",
              "71                          Offre: Hardware developer  ...  Nous cherchons pour notre entité AgriEdge de l...\n",
              "72                              Offre: Bscs developer  ...  Secteur d'activité : Informatique Fonction : I...\n",
              "73                                     Data Scientist  ...  Present information using data visualization t...\n",
              "74                 Consultants et Architecte Data H/F  ...  Afin de couvrir l’ensemble des besoins de nos ...\n",
              "\n",
              "[75 rows x 5 columns]"
            ]
          },
          "metadata": {},
          "execution_count": 26
        }
      ]
    },
    {
      "cell_type": "code",
      "source": [
        "df.head()"
      ],
      "metadata": {
        "colab": {
          "base_uri": "https://localhost:8080/",
          "height": 206
        },
        "id": "A2a2aW5jeZu5",
        "outputId": "4d61c56a-f607-4d06-c9a9-f4b28c365ac1"
      },
      "execution_count": 27,
      "outputs": [
        {
          "output_type": "execute_result",
          "data": {
            "text/html": [
              "\n",
              "  <div id=\"df-ce7ef445-93c0-4471-ab21-1580662030a1\">\n",
              "    <div class=\"colab-df-container\">\n",
              "      <div>\n",
              "<style scoped>\n",
              "    .dataframe tbody tr th:only-of-type {\n",
              "        vertical-align: middle;\n",
              "    }\n",
              "\n",
              "    .dataframe tbody tr th {\n",
              "        vertical-align: top;\n",
              "    }\n",
              "\n",
              "    .dataframe thead th {\n",
              "        text-align: right;\n",
              "    }\n",
              "</style>\n",
              "<table border=\"1\" class=\"dataframe\">\n",
              "  <thead>\n",
              "    <tr style=\"text-align: right;\">\n",
              "      <th></th>\n",
              "      <th>JobTitle</th>\n",
              "      <th>Location</th>\n",
              "      <th>PostDate</th>\n",
              "      <th>ExtractDate</th>\n",
              "      <th>Summary</th>\n",
              "    </tr>\n",
              "  </thead>\n",
              "  <tbody>\n",
              "    <tr>\n",
              "      <th>0</th>\n",
              "      <td>Stage en Ingénieur Développement – Data Scient...</td>\n",
              "      <td>Maroc</td>\n",
              "      <td>Postedil y a 30+ jours</td>\n",
              "      <td>2021-12-21</td>\n",
              "      <td>Poste pour Ingénieur à Rabat – Offre d’Emploi ...</td>\n",
              "    </tr>\n",
              "    <tr>\n",
              "      <th>1</th>\n",
              "      <td>Data Scientist-(H/F)</td>\n",
              "      <td>Maroc</td>\n",
              "      <td>Postedil y a 30+ jours</td>\n",
              "      <td>2021-12-21</td>\n",
              "      <td>Développer des use cases de bout en bout, en c...</td>\n",
              "    </tr>\n",
              "    <tr>\n",
              "      <th>2</th>\n",
              "      <td>Junior data scientist</td>\n",
              "      <td>Casablanca</td>\n",
              "      <td>Postedil y a 30+ jours</td>\n",
              "      <td>2021-12-21</td>\n",
              "      <td>Mettre en œuvre les processus de structuration...</td>\n",
              "    </tr>\n",
              "    <tr>\n",
              "      <th>3</th>\n",
              "      <td>Data Scientist</td>\n",
              "      <td>Casablanca</td>\n",
              "      <td>Postedil y a 30+ jours</td>\n",
              "      <td>2021-12-21</td>\n",
              "      <td>Le Data Scientist aura comme principale missio...</td>\n",
              "    </tr>\n",
              "    <tr>\n",
              "      <th>4</th>\n",
              "      <td>Data Scientist (H/F)</td>\n",
              "      <td>Casablanca</td>\n",
              "      <td>Postedil y a 30+ jours</td>\n",
              "      <td>2021-12-21</td>\n",
              "      <td>Exploration des données à l’aide d’outils de D...</td>\n",
              "    </tr>\n",
              "  </tbody>\n",
              "</table>\n",
              "</div>\n",
              "      <button class=\"colab-df-convert\" onclick=\"convertToInteractive('df-ce7ef445-93c0-4471-ab21-1580662030a1')\"\n",
              "              title=\"Convert this dataframe to an interactive table.\"\n",
              "              style=\"display:none;\">\n",
              "        \n",
              "  <svg xmlns=\"http://www.w3.org/2000/svg\" height=\"24px\"viewBox=\"0 0 24 24\"\n",
              "       width=\"24px\">\n",
              "    <path d=\"M0 0h24v24H0V0z\" fill=\"none\"/>\n",
              "    <path d=\"M18.56 5.44l.94 2.06.94-2.06 2.06-.94-2.06-.94-.94-2.06-.94 2.06-2.06.94zm-11 1L8.5 8.5l.94-2.06 2.06-.94-2.06-.94L8.5 2.5l-.94 2.06-2.06.94zm10 10l.94 2.06.94-2.06 2.06-.94-2.06-.94-.94-2.06-.94 2.06-2.06.94z\"/><path d=\"M17.41 7.96l-1.37-1.37c-.4-.4-.92-.59-1.43-.59-.52 0-1.04.2-1.43.59L10.3 9.45l-7.72 7.72c-.78.78-.78 2.05 0 2.83L4 21.41c.39.39.9.59 1.41.59.51 0 1.02-.2 1.41-.59l7.78-7.78 2.81-2.81c.8-.78.8-2.07 0-2.86zM5.41 20L4 18.59l7.72-7.72 1.47 1.35L5.41 20z\"/>\n",
              "  </svg>\n",
              "      </button>\n",
              "      \n",
              "  <style>\n",
              "    .colab-df-container {\n",
              "      display:flex;\n",
              "      flex-wrap:wrap;\n",
              "      gap: 12px;\n",
              "    }\n",
              "\n",
              "    .colab-df-convert {\n",
              "      background-color: #E8F0FE;\n",
              "      border: none;\n",
              "      border-radius: 50%;\n",
              "      cursor: pointer;\n",
              "      display: none;\n",
              "      fill: #1967D2;\n",
              "      height: 32px;\n",
              "      padding: 0 0 0 0;\n",
              "      width: 32px;\n",
              "    }\n",
              "\n",
              "    .colab-df-convert:hover {\n",
              "      background-color: #E2EBFA;\n",
              "      box-shadow: 0px 1px 2px rgba(60, 64, 67, 0.3), 0px 1px 3px 1px rgba(60, 64, 67, 0.15);\n",
              "      fill: #174EA6;\n",
              "    }\n",
              "\n",
              "    [theme=dark] .colab-df-convert {\n",
              "      background-color: #3B4455;\n",
              "      fill: #D2E3FC;\n",
              "    }\n",
              "\n",
              "    [theme=dark] .colab-df-convert:hover {\n",
              "      background-color: #434B5C;\n",
              "      box-shadow: 0px 1px 3px 1px rgba(0, 0, 0, 0.15);\n",
              "      filter: drop-shadow(0px 1px 2px rgba(0, 0, 0, 0.3));\n",
              "      fill: #FFFFFF;\n",
              "    }\n",
              "  </style>\n",
              "\n",
              "      <script>\n",
              "        const buttonEl =\n",
              "          document.querySelector('#df-ce7ef445-93c0-4471-ab21-1580662030a1 button.colab-df-convert');\n",
              "        buttonEl.style.display =\n",
              "          google.colab.kernel.accessAllowed ? 'block' : 'none';\n",
              "\n",
              "        async function convertToInteractive(key) {\n",
              "          const element = document.querySelector('#df-ce7ef445-93c0-4471-ab21-1580662030a1');\n",
              "          const dataTable =\n",
              "            await google.colab.kernel.invokeFunction('convertToInteractive',\n",
              "                                                     [key], {});\n",
              "          if (!dataTable) return;\n",
              "\n",
              "          const docLinkHtml = 'Like what you see? Visit the ' +\n",
              "            '<a target=\"_blank\" href=https://colab.research.google.com/notebooks/data_table.ipynb>data table notebook</a>'\n",
              "            + ' to learn more about interactive tables.';\n",
              "          element.innerHTML = '';\n",
              "          dataTable['output_type'] = 'display_data';\n",
              "          await google.colab.output.renderOutput(dataTable, element);\n",
              "          const docLink = document.createElement('div');\n",
              "          docLink.innerHTML = docLinkHtml;\n",
              "          element.appendChild(docLink);\n",
              "        }\n",
              "      </script>\n",
              "    </div>\n",
              "  </div>\n",
              "  "
            ],
            "text/plain": [
              "                                            JobTitle  ...                                            Summary\n",
              "0  Stage en Ingénieur Développement – Data Scient...  ...  Poste pour Ingénieur à Rabat – Offre d’Emploi ...\n",
              "1                               Data Scientist-(H/F)  ...  Développer des use cases de bout en bout, en c...\n",
              "2                              Junior data scientist  ...  Mettre en œuvre les processus de structuration...\n",
              "3                                     Data Scientist  ...  Le Data Scientist aura comme principale missio...\n",
              "4                               Data Scientist (H/F)  ...  Exploration des données à l’aide d’outils de D...\n",
              "\n",
              "[5 rows x 5 columns]"
            ]
          },
          "metadata": {},
          "execution_count": 27
        }
      ]
    }
  ]
}